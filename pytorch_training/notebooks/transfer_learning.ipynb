{
 "cells": [
  {
   "cell_type": "code",
   "execution_count": 1,
   "id": "a67b00bd-5509-4b62-84ad-f8bcb5dd975f",
   "metadata": {},
   "outputs": [],
   "source": [
    "import torch\n",
    "import os\n",
    "import cv2\n",
    "import imgaug as ia\n",
    "import numpy as np\n",
    "import sys\n",
    "import json\n",
    "\n",
    "from imgaug import augmenters as iaa\n",
    "\n",
    "from collections import defaultdict\n",
    "\n",
    "from torch.utils.data import Dataset, DataLoader\n",
    "from torch import nn\n",
    "from torch.nn import functional as F\n",
    "\n",
    "from torchvision.models import resnet18 as resnet18\n",
    "from torchvision import transforms\n",
    "\n",
    "import matplotlib.pyplot as plt"
   ]
  },
  {
   "cell_type": "code",
   "execution_count": 2,
   "id": "a4eca020-ac92-4833-9c27-73dd3685173c",
   "metadata": {},
   "outputs": [
    {
     "name": "stdout",
     "output_type": "stream",
     "text": [
      "Requirement already satisfied: imgaug in /mnt/shared/progs/miniconda3/envs/py3.8/lib/python3.8/site-packages (0.4.0)\n",
      "Requirement already satisfied: wandb in /mnt/shared/progs/miniconda3/envs/py3.8/lib/python3.8/site-packages (0.10.33)\n",
      "Requirement already satisfied: Pillow in /mnt/shared/progs/miniconda3/envs/py3.8/lib/python3.8/site-packages (from imgaug) (8.3.1)\n",
      "Requirement already satisfied: Shapely in /mnt/shared/progs/miniconda3/envs/py3.8/lib/python3.8/site-packages (from imgaug) (1.7.1)\n",
      "Requirement already satisfied: six in /mnt/shared/progs/miniconda3/envs/py3.8/lib/python3.8/site-packages (from imgaug) (1.16.0)\n",
      "Requirement already satisfied: imageio in /mnt/shared/progs/miniconda3/envs/py3.8/lib/python3.8/site-packages (from imgaug) (2.9.0)\n",
      "Requirement already satisfied: opencv-python in /mnt/shared/progs/miniconda3/envs/py3.8/lib/python3.8/site-packages (from imgaug) (4.5.3.56)\n",
      "Requirement already satisfied: numpy>=1.15 in /mnt/shared/progs/miniconda3/envs/py3.8/lib/python3.8/site-packages (from imgaug) (1.20.2)\n",
      "Requirement already satisfied: matplotlib in /mnt/shared/progs/miniconda3/envs/py3.8/lib/python3.8/site-packages (from imgaug) (3.3.4)\n",
      "Requirement already satisfied: scikit-image>=0.14.2 in /mnt/shared/progs/miniconda3/envs/py3.8/lib/python3.8/site-packages (from imgaug) (0.18.2)\n",
      "Requirement already satisfied: scipy in /mnt/shared/progs/miniconda3/envs/py3.8/lib/python3.8/site-packages (from imgaug) (1.7.0)\n",
      "Requirement already satisfied: tifffile>=2019.7.26 in /mnt/shared/progs/miniconda3/envs/py3.8/lib/python3.8/site-packages (from scikit-image>=0.14.2->imgaug) (2021.7.2)\n",
      "Requirement already satisfied: networkx>=2.0 in /mnt/shared/progs/miniconda3/envs/py3.8/lib/python3.8/site-packages (from scikit-image>=0.14.2->imgaug) (2.5.1)\n",
      "Requirement already satisfied: PyWavelets>=1.1.1 in /mnt/shared/progs/miniconda3/envs/py3.8/lib/python3.8/site-packages (from scikit-image>=0.14.2->imgaug) (1.1.1)\n",
      "Requirement already satisfied: kiwisolver>=1.0.1 in /mnt/shared/progs/miniconda3/envs/py3.8/lib/python3.8/site-packages (from matplotlib->imgaug) (1.3.1)\n",
      "Requirement already satisfied: pyparsing!=2.0.4,!=2.1.2,!=2.1.6,>=2.0.3 in /mnt/shared/progs/miniconda3/envs/py3.8/lib/python3.8/site-packages (from matplotlib->imgaug) (2.4.7)\n",
      "Requirement already satisfied: cycler>=0.10 in /mnt/shared/progs/miniconda3/envs/py3.8/lib/python3.8/site-packages (from matplotlib->imgaug) (0.10.0)\n",
      "Requirement already satisfied: python-dateutil>=2.1 in /mnt/shared/progs/miniconda3/envs/py3.8/lib/python3.8/site-packages (from matplotlib->imgaug) (2.8.1)\n",
      "Collecting decorator<5,>=4.3\n",
      "  Using cached decorator-4.4.2-py2.py3-none-any.whl (9.2 kB)\n",
      "Requirement already satisfied: shortuuid>=0.5.0 in /mnt/shared/progs/miniconda3/envs/py3.8/lib/python3.8/site-packages (from wandb) (1.0.1)\n",
      "Requirement already satisfied: Click!=8.0.0,>=7.0 in /mnt/shared/progs/miniconda3/envs/py3.8/lib/python3.8/site-packages (from wandb) (8.0.1)\n",
      "Requirement already satisfied: configparser>=3.8.1 in /mnt/shared/progs/miniconda3/envs/py3.8/lib/python3.8/site-packages (from wandb) (5.0.2)\n",
      "Requirement already satisfied: GitPython>=1.0.0 in /mnt/shared/progs/miniconda3/envs/py3.8/lib/python3.8/site-packages (from wandb) (3.1.18)\n",
      "Requirement already satisfied: subprocess32>=3.5.3 in /mnt/shared/progs/miniconda3/envs/py3.8/lib/python3.8/site-packages (from wandb) (3.5.4)\n",
      "Requirement already satisfied: protobuf>=3.12.0 in /mnt/shared/progs/miniconda3/envs/py3.8/lib/python3.8/site-packages (from wandb) (3.17.3)\n",
      "Requirement already satisfied: pathtools in /mnt/shared/progs/miniconda3/envs/py3.8/lib/python3.8/site-packages (from wandb) (0.1.2)\n",
      "Requirement already satisfied: promise<3,>=2.0 in /mnt/shared/progs/miniconda3/envs/py3.8/lib/python3.8/site-packages (from wandb) (2.3)\n",
      "Requirement already satisfied: requests<3,>=2.0.0 in /mnt/shared/progs/miniconda3/envs/py3.8/lib/python3.8/site-packages (from wandb) (2.25.1)\n",
      "Requirement already satisfied: psutil>=5.0.0 in /mnt/shared/progs/miniconda3/envs/py3.8/lib/python3.8/site-packages (from wandb) (5.8.0)\n",
      "Requirement already satisfied: docker-pycreds>=0.4.0 in /mnt/shared/progs/miniconda3/envs/py3.8/lib/python3.8/site-packages (from wandb) (0.4.0)\n",
      "Requirement already satisfied: PyYAML in /mnt/shared/progs/miniconda3/envs/py3.8/lib/python3.8/site-packages (from wandb) (5.4.1)\n",
      "Requirement already satisfied: sentry-sdk>=0.4.0 in /mnt/shared/progs/miniconda3/envs/py3.8/lib/python3.8/site-packages (from wandb) (1.3.0)\n",
      "Requirement already satisfied: gitdb<5,>=4.0.1 in /mnt/shared/progs/miniconda3/envs/py3.8/lib/python3.8/site-packages (from GitPython>=1.0.0->wandb) (4.0.7)\n",
      "Requirement already satisfied: smmap<5,>=3.0.1 in /mnt/shared/progs/miniconda3/envs/py3.8/lib/python3.8/site-packages (from gitdb<5,>=4.0.1->GitPython>=1.0.0->wandb) (4.0.0)\n",
      "Requirement already satisfied: urllib3<1.27,>=1.21.1 in /mnt/shared/progs/miniconda3/envs/py3.8/lib/python3.8/site-packages (from requests<3,>=2.0.0->wandb) (1.26.6)\n",
      "Requirement already satisfied: certifi>=2017.4.17 in /mnt/shared/progs/miniconda3/envs/py3.8/lib/python3.8/site-packages (from requests<3,>=2.0.0->wandb) (2021.5.30)\n",
      "Requirement already satisfied: idna<3,>=2.5 in /mnt/shared/progs/miniconda3/envs/py3.8/lib/python3.8/site-packages (from requests<3,>=2.0.0->wandb) (2.10)\n",
      "Requirement already satisfied: chardet<5,>=3.0.2 in /mnt/shared/progs/miniconda3/envs/py3.8/lib/python3.8/site-packages (from requests<3,>=2.0.0->wandb) (4.0.0)\n",
      "Installing collected packages: decorator\n",
      "  Attempting uninstall: decorator\n",
      "    Found existing installation: decorator 5.0.9\n",
      "    Uninstalling decorator-5.0.9:\n",
      "      Successfully uninstalled decorator-5.0.9\n",
      "Successfully installed decorator-4.4.2\n"
     ]
    }
   ],
   "source": [
    "!pip install imgaug wandb"
   ]
  },
  {
   "cell_type": "markdown",
   "id": "137f4887-f9ce-4d88-8e8b-20dbad3c8486",
   "metadata": {},
   "source": [
    "## Логирование процесса обучения"
   ]
  },
  {
   "cell_type": "markdown",
   "id": "3f3cf2ce-ce9e-4f6f-b4d4-3c4b0e82cc52",
   "metadata": {},
   "source": [
    "Будем отправлять логи обучения (значение функции потерь, метрики качества) в сервис Weights & Biases - https://wandb.ai. Тогда к ним можно будет легко получить доступ через интернет и следить за процессом обучения откуда угодно."
   ]
  },
  {
   "cell_type": "code",
   "execution_count": 3,
   "id": "ff1bdf12-2fd4-4efa-948a-571caf7db4ec",
   "metadata": {},
   "outputs": [
    {
     "name": "stderr",
     "output_type": "stream",
     "text": [
      "\u001b[34m\u001b[1mwandb\u001b[0m: Currently logged in as: \u001b[33mivbelkin\u001b[0m (use `wandb login --relogin` to force relogin)\n"
     ]
    },
    {
     "data": {
      "text/html": [
       "\n",
       "                Tracking run with wandb version 0.10.33<br/>\n",
       "                Syncing run <strong style=\"color:#cdcd00\">blooming-silence-16</strong> to <a href=\"https://wandb.ai\" target=\"_blank\">Weights & Biases</a> <a href=\"https://docs.wandb.com/integrations/jupyter.html\" target=\"_blank\">(Documentation)</a>.<br/>\n",
       "                Project page: <a href=\"https://wandb.ai/ivbelkin/raai-cv-2021\" target=\"_blank\">https://wandb.ai/ivbelkin/raai-cv-2021</a><br/>\n",
       "                Run page: <a href=\"https://wandb.ai/ivbelkin/raai-cv-2021/runs/1cxj9dz5\" target=\"_blank\">https://wandb.ai/ivbelkin/raai-cv-2021/runs/1cxj9dz5</a><br/>\n",
       "                Run data is saved locally in <code>/home/sirius/catkin_ws/src/raai_summer_school_cv_2021/pytorch_training/notebooks/wandb/run-20210714_094627-1cxj9dz5</code><br/><br/>\n",
       "            "
      ],
      "text/plain": [
       "<IPython.core.display.HTML object>"
      ]
     },
     "metadata": {},
     "output_type": "display_data"
    }
   ],
   "source": [
    "import wandb\n",
    "wandb.init(project=\"raai-cv-2021\")\n",
    "None"
   ]
  },
  {
   "cell_type": "markdown",
   "id": "c3cca553-2ceb-49bd-9db1-7db2137dad84",
   "metadata": {},
   "source": [
    "## Подготовка данных"
   ]
  },
  {
   "cell_type": "markdown",
   "id": "a16a603f-eeeb-4ab2-b961-1086c21aec75",
   "metadata": {},
   "source": [
    "Скачиваем датасет транспортных средств https://www.kaggle.com/rishabkoul1/vechicle-dataset. Распаковываем его и указываем корректные пути к данным для обучения и тестирования"
   ]
  },
  {
   "cell_type": "code",
   "execution_count": 4,
   "id": "e654ff26-4e73-4242-9564-8f9d46cf98ac",
   "metadata": {},
   "outputs": [],
   "source": [
    "TRAIN_DATA_PATH = '../data/archive/vechicles/train/'\n",
    "TEST_DATA_PATH = '../data/archive/vechicles/test/'"
   ]
  },
  {
   "cell_type": "markdown",
   "id": "4f495cf6-0d20-4f2f-a5fc-8f81ae2f71e4",
   "metadata": {},
   "source": [
    "Для того, чтобы использовать свой собственный датасет можно привести его к формату одного из общеупотребимых, либо реализовать класс для доступа к нему. Обязательными для реализции являются методы \\__getitem__ и \\__len__."
   ]
  },
  {
   "cell_type": "markdown",
   "id": "49d4a981-71ba-4c3c-9d7d-a19fa556d266",
   "metadata": {},
   "source": [
    "Если датасет небольшой, то его можно полностью загрузить в оперативную память. Это позволит максимально эффективно задействовать GPU, так как не нужно будет тратить время на считывание данных с диска"
   ]
  },
  {
   "cell_type": "code",
   "execution_count": 5,
   "id": "5dc7edd5-2f48-4633-8a5c-3f1747d213ce",
   "metadata": {},
   "outputs": [],
   "source": [
    "class VehiclesDatasetRAM(Dataset):\n",
    "\n",
    "    def __init__(self, path, transform=None):\n",
    "        super().__init__()\n",
    "\n",
    "        self.path = path\n",
    "        self.transform = transform\n",
    "\n",
    "        self.data = []\n",
    "\n",
    "        self.class_name_to_idx = {}\n",
    "        self.idx_to_class_name = []\n",
    "\n",
    "        for class_idx, class_name in enumerate(sorted(os.listdir(path))):\n",
    "            self.class_name_to_idx[class_name] = class_idx\n",
    "            self.idx_to_class_name.append(class_name)\n",
    "\n",
    "            class_images_path = os.path.join(path, class_name)\n",
    "            for image_name in os.listdir(class_images_path):\n",
    "                image_path = os.path.join(class_images_path, image_name)\n",
    "                \n",
    "                # считывание с диска и декодирование jpeg данных\n",
    "                image = cv2.imread(image_path, cv2.IMREAD_COLOR)\n",
    "                \n",
    "                self.data.append((image, class_name))\n",
    "\n",
    "    def __getitem__(self, idx):\n",
    "        image, class_name = self.data[idx]\n",
    "        if self.transform:\n",
    "            image = self.transform(image)\n",
    "        return image, self.class_name_to_idx[class_name]\n",
    "\n",
    "    def __len__(self):\n",
    "        return len(self.data)"
   ]
  },
  {
   "cell_type": "markdown",
   "id": "eb80af92-738b-4212-94da-81aa77c77d9f",
   "metadata": {},
   "source": [
    "Если датасет большой, то придется считывать данные с диска по мере необходимости. Если одна итерация обучения модели занимает меньше времени, чем загрузка данных, то такой подход будет приводить к простою GPU."
   ]
  },
  {
   "cell_type": "code",
   "execution_count": 6,
   "id": "452f04ea-3fd2-41e8-b6f4-8159d8fa810d",
   "metadata": {},
   "outputs": [],
   "source": [
    "class VehiclesDatasetDisk(Dataset):\n",
    "\n",
    "    def __init__(self, path, transform=None):\n",
    "        super().__init__()\n",
    "\n",
    "        self.path = path\n",
    "        self.transform = transform\n",
    "\n",
    "        self.data = []\n",
    "\n",
    "        self.class_name_to_idx = {}\n",
    "        self.idx_to_class_name = []\n",
    "\n",
    "        for class_idx, class_name in enumerate(sorted(os.listdir(path))):\n",
    "            self.class_name_to_idx[class_name] = class_idx\n",
    "            self.idx_to_class_name.append(class_name)\n",
    "\n",
    "            class_images_path = os.path.join(path, class_name)\n",
    "            for image_name in os.listdir(class_images_path):\n",
    "                image_path = os.path.join(class_images_path, image_name)\n",
    "                \n",
    "                # просто запоминаем путь к изображению, считывание произведем потом\n",
    "                self.data.append((image_path, class_name))\n",
    "\n",
    "    def __getitem__(self, idx):\n",
    "        image_path, class_name = self.data[idx]\n",
    "        # считывание с диска и декодирование jpeg данных\n",
    "        image = cv2.imread(image_path, cv2.IMREAD_COLOR)\n",
    "        if self.transform:\n",
    "            image = self.transform(image)\n",
    "        return image, self.class_name_to_idx[class_name]\n",
    "\n",
    "    def __len__(self):\n",
    "        return len(self.data)"
   ]
  },
  {
   "cell_type": "markdown",
   "id": "ca875552-24ea-4be8-8aab-2599e0ba48a4",
   "metadata": {},
   "source": [
    "Как правило, изображения на диске хранятся в сжатом формате, а при считывании разжимаются. Можно отложить декомпрессию изображения до непосредственного обращения к нему. При этом в память загрузить бинарные данные, представляющие сжатые изображения. Такой подход применим для датасетов среднего размера."
   ]
  },
  {
   "cell_type": "code",
   "execution_count": 7,
   "id": "31457a23-46a8-4c1f-b974-c5b0daaf4ae5",
   "metadata": {},
   "outputs": [],
   "source": [
    "class VehiclesDatasetRAMCompressed(Dataset):\n",
    "\n",
    "    def __init__(self, path, transform=None):\n",
    "        super().__init__()\n",
    "\n",
    "        self.path = path\n",
    "        self.transform = transform\n",
    "\n",
    "        self.data = []\n",
    "\n",
    "        self.class_name_to_idx = {}\n",
    "        self.idx_to_class_name = []\n",
    "\n",
    "        for class_idx, class_name in enumerate(sorted(os.listdir(path))):\n",
    "            self.class_name_to_idx[class_name] = class_idx\n",
    "            self.idx_to_class_name.append(class_name)\n",
    "\n",
    "            class_images_path = os.path.join(path, class_name)\n",
    "            for image_name in os.listdir(class_images_path):\n",
    "                image_path = os.path.join(class_images_path, image_name)\n",
    "                \n",
    "                # считывание с диска последовательности байт\n",
    "                with open(image_path, 'rb') as f:\n",
    "                    data = np.asarray(bytearray(f.read()), dtype=np.uint8)\n",
    "                \n",
    "                self.data.append((data, class_name))\n",
    "\n",
    "    def __getitem__(self, idx):\n",
    "        data, class_name = self.data[idx]\n",
    "        # декодирование jpeg данных\n",
    "        image = cv2.imdecode(data, cv2.IMREAD_COLOR)\n",
    "        if self.transform:\n",
    "            image = self.transform(image)\n",
    "        return image, self.class_name_to_idx[class_name]\n",
    "\n",
    "    def __len__(self):\n",
    "        return len(self.data)"
   ]
  },
  {
   "cell_type": "markdown",
   "id": "1083d50b-9590-40c3-91ed-6ca2f6d3ae64",
   "metadata": {},
   "source": [
    "Как правило, перед подачей изображения на вход сети его необходимо предобработать, в том числе применить аугментации для обучающих данных."
   ]
  },
  {
   "cell_type": "code",
   "execution_count": 8,
   "id": "50636f17-efbe-4995-b5eb-fe23bf998b27",
   "metadata": {},
   "outputs": [],
   "source": [
    "train_transform = transforms.Compose([\n",
    "    iaa.Sequential([\n",
    "        iaa.Fliplr(0.5),\n",
    "        iaa.CoarseSaltAndPepper(0.05, size_percent=(0.01, 0.2)),\n",
    "        iaa.CenterCropToSquare(),\n",
    "        iaa.Resize({\"height\": 128, \"width\": 128})\n",
    "    ]).augment_image,\n",
    "    transforms.ToTensor(),\n",
    "    transforms.Normalize((0.485, 0.456, 0.406), (0.229, 0.224, 0.225))\n",
    "])\n",
    "\n",
    "test_transform = transforms.Compose([\n",
    "    iaa.Sequential([\n",
    "        iaa.CenterCropToSquare(),\n",
    "        iaa.Resize({\"height\": 128, \"width\": 128})\n",
    "    ]).augment_image,\n",
    "    transforms.ToTensor(),\n",
    "    transforms.Normalize((0.485, 0.456, 0.406), (0.229, 0.224, 0.225))\n",
    "])"
   ]
  },
  {
   "cell_type": "code",
   "execution_count": 9,
   "id": "231bcd51-bf68-4a8b-9c32-5bde992233b9",
   "metadata": {},
   "outputs": [
    {
     "name": "stdout",
     "output_type": "stream",
     "text": [
      "Train dataset size: 468\n",
      "Test dataset size: 72\n"
     ]
    }
   ],
   "source": [
    "train_dataset = VehiclesDatasetRAM(TRAIN_DATA_PATH, train_transform)\n",
    "test_dataset = VehiclesDatasetRAM(TEST_DATA_PATH, test_transform)\n",
    "\n",
    "print('Train dataset size:', len(train_dataset))\n",
    "print('Test dataset size:', len(test_dataset))"
   ]
  },
  {
   "cell_type": "markdown",
   "id": "c4bd244f-f181-4632-b54d-f21b911fc5c5",
   "metadata": {},
   "source": [
    "Доступ к элементам датасета осуществляется по индексу, при этом вызывается метод \\__getitem__"
   ]
  },
  {
   "cell_type": "code",
   "execution_count": 13,
   "id": "f76df791-bcf9-4b51-bdb6-d12824894f68",
   "metadata": {},
   "outputs": [
    {
     "name": "stdout",
     "output_type": "stream",
     "text": [
      "Image shape: torch.Size([3, 128, 128])\n",
      "Class idx: 0\n",
      "Class name: bike\n"
     ]
    },
    {
     "data": {
      "text/plain": [
       "<matplotlib.image.AxesImage at 0x7f6fe2f59eb0>"
      ]
     },
     "execution_count": 13,
     "metadata": {},
     "output_type": "execute_result"
    },
    {
     "data": {
      "image/png": "[encoded data removed]",
      "text/plain": [
       "<Figure size 432x288 with 1 Axes>"
      ]
     },
     "metadata": {
      "needs_background": "light"
     },
     "output_type": "display_data"
    }
   ],
   "source": [
    "image, class_idx = train_dataset[0]\n",
    "\n",
    "print('Image shape:', image.shape)\n",
    "print('Class idx:', class_idx)\n",
    "print('Class name:', train_dataset.idx_to_class_name[class_idx])\n",
    "\n",
    "plt.imshow(image[0], cmap='Greys_r')"
   ]
  },
  {
   "cell_type": "code",
   "execution_count": 14,
   "id": "57796277-b326-4472-a870-d9aad02c940a",
   "metadata": {},
   "outputs": [],
   "source": [
    "train_dataloader = DataLoader(\n",
    "    train_dataset,\n",
    "    batch_size=8,\n",
    "    shuffle=True,  # обучающие данные стоит передавать в случайном порядке\n",
    "    num_workers=2,  # число потоков подготовки данных. если не удается полностью задействовать GPU, то можно попробовать увеличить, но это увеличит нагрузку на cpu\n",
    "    pin_memory=True,  # перевод GPU памяти в режим pinned ускоряет загрузку/выгрузку данных\n",
    "    drop_last=True  # чтобы все батчи были одного размера, лучше сделать True\n",
    ")\n",
    "\n",
    "test_dataloader = DataLoader(\n",
    "    test_dataset,  \n",
    "    batch_size=8, \n",
    "    shuffle=False,\n",
    "    num_workers=1, \n",
    "    pin_memory=True, \n",
    "    drop_last=False  # чтобы обработать все тестовые данные\n",
    ")"
   ]
  },
  {
   "cell_type": "markdown",
   "id": "e706074e-e856-44be-ae1e-2e3a5e970740",
   "metadata": {},
   "source": [
    "Объект класса DataLoader является итерируемым и возвращает батчи данных"
   ]
  },
  {
   "cell_type": "code",
   "execution_count": 15,
   "id": "5767ea72-a746-457a-9854-9a976817b3f3",
   "metadata": {},
   "outputs": [],
   "source": [
    "for batch in test_dataloader:\n",
    "    break"
   ]
  },
  {
   "cell_type": "code",
   "execution_count": 16,
   "id": "1b6ebfff-50b6-4d9d-9e12-437386782596",
   "metadata": {},
   "outputs": [
    {
     "name": "stdout",
     "output_type": "stream",
     "text": [
      "Image batch size: torch.Size([8, 3, 128, 128])\n",
      "Class index batch size: torch.Size([8])\n"
     ]
    }
   ],
   "source": [
    "image_batch, class_idx_batch = batch\n",
    "\n",
    "print('Image batch size:', image_batch.shape)\n",
    "print('Class index batch size:', class_idx_batch.shape)"
   ]
  },
  {
   "cell_type": "markdown",
   "id": "e6b7818f-4b50-4ad5-9221-10da0bbdc970",
   "metadata": {},
   "source": [
    "## Подготовка модели"
   ]
  },
  {
   "cell_type": "markdown",
   "id": "b6546b09-e5d1-4746-89b9-bf976aa795fb",
   "metadata": {},
   "source": [
    "В качестве модели будем использовать ResNet18, предобученную на датасете ImageNet:"
   ]
  },
  {
   "cell_type": "code",
   "execution_count": 17,
   "id": "ae590c39-028a-45a8-8e94-75a9ae28b724",
   "metadata": {},
   "outputs": [],
   "source": [
    "model = resnet18(pretrained=True)"
   ]
  },
  {
   "cell_type": "code",
   "execution_count": 18,
   "id": "421c9d7f-8a6b-4890-9d1f-e97fd142df38",
   "metadata": {},
   "outputs": [],
   "source": [
    "with open('../../pytorch_inference/notebooks/imagenet1000_clsidx_to_labels.json', 'r') as f:\n",
    "    imagenet1k_clsidx_to_labels = json.load(f)"
   ]
  },
  {
   "cell_type": "markdown",
   "id": "d23eae55-a891-4330-8f1f-465fe8eae01d",
   "metadata": {},
   "source": [
    "Проверим, какие результаты показывает предобученная модель до дообучения:"
   ]
  },
  {
   "cell_type": "code",
   "execution_count": 19,
   "id": "01c65d41-02af-4e29-8d8d-f5bb38d986e4",
   "metadata": {},
   "outputs": [
    {
     "name": "stderr",
     "output_type": "stream",
     "text": [
      "/mnt/shared/progs/miniconda3/envs/py3.8/lib/python3.8/site-packages/torch/nn/functional.py:718: UserWarning: Named tensors and all their associated APIs are an experimental feature and subject to change. Please do not use them for anything important until they are released as stable. (Triggered internally at  /opt/conda/conda-bld/pytorch_1623448278899/work/c10/core/TensorImpl.h:1156.)\n",
      "  return torch.max_pool2d(input, kernel_size, stride, padding, dilation, ceil_mode)\n"
     ]
    }
   ],
   "source": [
    "logits = model(image_batch)\n",
    "topk = torch.topk(logits, 5)"
   ]
  },
  {
   "cell_type": "code",
   "execution_count": 20,
   "id": "9add9ac1-a61f-40ad-a015-152b94f6553f",
   "metadata": {},
   "outputs": [],
   "source": [
    "def show_res(idx):\n",
    "    plt.imshow(image_batch[idx, 0], cmap='Greys_r')\n",
    "    print('True label:', train_dataset.idx_to_class_name[class_idx_batch[idx]])\n",
    "    print('Model labels:', [imagenet1k_clsidx_to_labels[i] for i in topk.indices[idx]])"
   ]
  },
  {
   "cell_type": "code",
   "execution_count": 21,
   "id": "b1a0abee-88d7-4ede-8f8c-f312923996df",
   "metadata": {},
   "outputs": [
    {
     "name": "stdout",
     "output_type": "stream",
     "text": [
      "True label: bike\n",
      "Model labels: ['pot', 'vine snake', 'junco', 'green mamba', 'European green lizard']\n"
     ]
    },
    {
     "data": {
      "image/png": "[encoded data removed]",
      "text/plain": [
       "<Figure size 432x288 with 1 Axes>"
      ]
     },
     "metadata": {
      "needs_background": "light"
     },
     "output_type": "display_data"
    }
   ],
   "source": [
    "show_res(0)"
   ]
  },
  {
   "cell_type": "code",
   "execution_count": 22,
   "id": "ecf45799-1218-4fd8-828d-f5493e09b013",
   "metadata": {},
   "outputs": [
    {
     "name": "stdout",
     "output_type": "stream",
     "text": [
      "True label: bike\n",
      "Model labels: ['American robin', 'chainsaw', 'goldfish', 'barn spider', 'southern black widow']\n"
     ]
    },
    {
     "data": {
      "image/png": "[encoded data removed]",
      "text/plain": [
       "<Figure size 432x288 with 1 Axes>"
      ]
     },
     "metadata": {
      "needs_background": "light"
     },
     "output_type": "display_data"
    }
   ],
   "source": [
    "show_res(1)"
   ]
  },
  {
   "cell_type": "code",
   "execution_count": 23,
   "id": "cf5cb3b9-eca6-48b9-b8c2-47cf2607d0fd",
   "metadata": {},
   "outputs": [
    {
     "name": "stdout",
     "output_type": "stream",
     "text": [
      "True label: bike\n",
      "Model labels: ['water bottle', 'salt shaker', 'water jug', 'coffeemaker', 'milk can']\n"
     ]
    },
    {
     "data": {
      "image/png": "[encoded data removed]",
      "text/plain": [
       "<Figure size 432x288 with 1 Axes>"
      ]
     },
     "metadata": {
      "needs_background": "light"
     },
     "output_type": "display_data"
    }
   ],
   "source": [
    "show_res(2)"
   ]
  },
  {
   "cell_type": "markdown",
   "id": "b75f44a4-5f36-428e-abb2-cb0b802211f3",
   "metadata": {},
   "source": [
    "В целевом датасете 9 классов, поэтому заменим последний слой"
   ]
  },
  {
   "cell_type": "code",
   "execution_count": 24,
   "id": "ae3f8104-6ea2-4c52-8409-5fe8275099e1",
   "metadata": {},
   "outputs": [
    {
     "data": {
      "text/plain": [
       "ResNet(\n",
       "  (conv1): Conv2d(3, 64, kernel_size=(7, 7), stride=(2, 2), padding=(3, 3), bias=False)\n",
       "  (bn1): BatchNorm2d(64, eps=1e-05, momentum=0.1, affine=True, track_running_stats=True)\n",
       "  (relu): ReLU(inplace=True)\n",
       "  (maxpool): MaxPool2d(kernel_size=3, stride=2, padding=1, dilation=1, ceil_mode=False)\n",
       "  (layer1): Sequential(\n",
       "    (0): BasicBlock(\n",
       "      (conv1): Conv2d(64, 64, kernel_size=(3, 3), stride=(1, 1), padding=(1, 1), bias=False)\n",
       "      (bn1): BatchNorm2d(64, eps=1e-05, momentum=0.1, affine=True, track_running_stats=True)\n",
       "      (relu): ReLU(inplace=True)\n",
       "      (conv2): Conv2d(64, 64, kernel_size=(3, 3), stride=(1, 1), padding=(1, 1), bias=False)\n",
       "      (bn2): BatchNorm2d(64, eps=1e-05, momentum=0.1, affine=True, track_running_stats=True)\n",
       "    )\n",
       "    (1): BasicBlock(\n",
       "      (conv1): Conv2d(64, 64, kernel_size=(3, 3), stride=(1, 1), padding=(1, 1), bias=False)\n",
       "      (bn1): BatchNorm2d(64, eps=1e-05, momentum=0.1, affine=True, track_running_stats=True)\n",
       "      (relu): ReLU(inplace=True)\n",
       "      (conv2): Conv2d(64, 64, kernel_size=(3, 3), stride=(1, 1), padding=(1, 1), bias=False)\n",
       "      (bn2): BatchNorm2d(64, eps=1e-05, momentum=0.1, affine=True, track_running_stats=True)\n",
       "    )\n",
       "  )\n",
       "  (layer2): Sequential(\n",
       "    (0): BasicBlock(\n",
       "      (conv1): Conv2d(64, 128, kernel_size=(3, 3), stride=(2, 2), padding=(1, 1), bias=False)\n",
       "      (bn1): BatchNorm2d(128, eps=1e-05, momentum=0.1, affine=True, track_running_stats=True)\n",
       "      (relu): ReLU(inplace=True)\n",
       "      (conv2): Conv2d(128, 128, kernel_size=(3, 3), stride=(1, 1), padding=(1, 1), bias=False)\n",
       "      (bn2): BatchNorm2d(128, eps=1e-05, momentum=0.1, affine=True, track_running_stats=True)\n",
       "      (downsample): Sequential(\n",
       "        (0): Conv2d(64, 128, kernel_size=(1, 1), stride=(2, 2), bias=False)\n",
       "        (1): BatchNorm2d(128, eps=1e-05, momentum=0.1, affine=True, track_running_stats=True)\n",
       "      )\n",
       "    )\n",
       "    (1): BasicBlock(\n",
       "      (conv1): Conv2d(128, 128, kernel_size=(3, 3), stride=(1, 1), padding=(1, 1), bias=False)\n",
       "      (bn1): BatchNorm2d(128, eps=1e-05, momentum=0.1, affine=True, track_running_stats=True)\n",
       "      (relu): ReLU(inplace=True)\n",
       "      (conv2): Conv2d(128, 128, kernel_size=(3, 3), stride=(1, 1), padding=(1, 1), bias=False)\n",
       "      (bn2): BatchNorm2d(128, eps=1e-05, momentum=0.1, affine=True, track_running_stats=True)\n",
       "    )\n",
       "  )\n",
       "  (layer3): Sequential(\n",
       "    (0): BasicBlock(\n",
       "      (conv1): Conv2d(128, 256, kernel_size=(3, 3), stride=(2, 2), padding=(1, 1), bias=False)\n",
       "      (bn1): BatchNorm2d(256, eps=1e-05, momentum=0.1, affine=True, track_running_stats=True)\n",
       "      (relu): ReLU(inplace=True)\n",
       "      (conv2): Conv2d(256, 256, kernel_size=(3, 3), stride=(1, 1), padding=(1, 1), bias=False)\n",
       "      (bn2): BatchNorm2d(256, eps=1e-05, momentum=0.1, affine=True, track_running_stats=True)\n",
       "      (downsample): Sequential(\n",
       "        (0): Conv2d(128, 256, kernel_size=(1, 1), stride=(2, 2), bias=False)\n",
       "        (1): BatchNorm2d(256, eps=1e-05, momentum=0.1, affine=True, track_running_stats=True)\n",
       "      )\n",
       "    )\n",
       "    (1): BasicBlock(\n",
       "      (conv1): Conv2d(256, 256, kernel_size=(3, 3), stride=(1, 1), padding=(1, 1), bias=False)\n",
       "      (bn1): BatchNorm2d(256, eps=1e-05, momentum=0.1, affine=True, track_running_stats=True)\n",
       "      (relu): ReLU(inplace=True)\n",
       "      (conv2): Conv2d(256, 256, kernel_size=(3, 3), stride=(1, 1), padding=(1, 1), bias=False)\n",
       "      (bn2): BatchNorm2d(256, eps=1e-05, momentum=0.1, affine=True, track_running_stats=True)\n",
       "    )\n",
       "  )\n",
       "  (layer4): Sequential(\n",
       "    (0): BasicBlock(\n",
       "      (conv1): Conv2d(256, 512, kernel_size=(3, 3), stride=(2, 2), padding=(1, 1), bias=False)\n",
       "      (bn1): BatchNorm2d(512, eps=1e-05, momentum=0.1, affine=True, track_running_stats=True)\n",
       "      (relu): ReLU(inplace=True)\n",
       "      (conv2): Conv2d(512, 512, kernel_size=(3, 3), stride=(1, 1), padding=(1, 1), bias=False)\n",
       "      (bn2): BatchNorm2d(512, eps=1e-05, momentum=0.1, affine=True, track_running_stats=True)\n",
       "      (downsample): Sequential(\n",
       "        (0): Conv2d(256, 512, kernel_size=(1, 1), stride=(2, 2), bias=False)\n",
       "        (1): BatchNorm2d(512, eps=1e-05, momentum=0.1, affine=True, track_running_stats=True)\n",
       "      )\n",
       "    )\n",
       "    (1): BasicBlock(\n",
       "      (conv1): Conv2d(512, 512, kernel_size=(3, 3), stride=(1, 1), padding=(1, 1), bias=False)\n",
       "      (bn1): BatchNorm2d(512, eps=1e-05, momentum=0.1, affine=True, track_running_stats=True)\n",
       "      (relu): ReLU(inplace=True)\n",
       "      (conv2): Conv2d(512, 512, kernel_size=(3, 3), stride=(1, 1), padding=(1, 1), bias=False)\n",
       "      (bn2): BatchNorm2d(512, eps=1e-05, momentum=0.1, affine=True, track_running_stats=True)\n",
       "    )\n",
       "  )\n",
       "  (avgpool): AdaptiveAvgPool2d(output_size=(1, 1))\n",
       "  (fc): Linear(in_features=512, out_features=9, bias=True)\n",
       ")"
      ]
     },
     "execution_count": 24,
     "metadata": {},
     "output_type": "execute_result"
    }
   ],
   "source": [
    "model.fc = nn.Linear(512, 9)\n",
    "torch.nn.init.xavier_normal_(model.fc.weight)\n",
    "model"
   ]
  },
  {
   "cell_type": "markdown",
   "id": "3f6702fe-9d84-40e4-aa33-e3f4a65539ce",
   "metadata": {},
   "source": [
    "Большая часть модели (кроме последнего слоя), уже достаточно хорошо обучена. Последний слой при этом инициализирован случайными величинами. Поэтому, чтобы в процессе обучения не испортить уже обученные веса, можно их заморозить и дообучить только последний слой:"
   ]
  },
  {
   "cell_type": "code",
   "execution_count": 25,
   "id": "f145a4b1-b2a4-4c81-880e-98d4df0542e2",
   "metadata": {},
   "outputs": [],
   "source": [
    "# Замораживаем все веса модели\n",
    "for param in model.parameters():\n",
    "    param.requires_grad = False\n",
    "\n",
    "# Размораживаем последний линейный слой\n",
    "for param in model.fc.parameters():\n",
    "    param.requires_grad = True"
   ]
  },
  {
   "cell_type": "markdown",
   "id": "4d478d13-96af-4e74-92f2-b48dcee1c007",
   "metadata": {},
   "source": [
    "При этом полное число параметров модели будет составлять"
   ]
  },
  {
   "cell_type": "code",
   "execution_count": 26,
   "id": "b65873f1-b228-4ef1-a704-c2464db1bcb9",
   "metadata": {},
   "outputs": [
    {
     "name": "stdout",
     "output_type": "stream",
     "text": [
      "Total number of parameters: 11181129\n"
     ]
    }
   ],
   "source": [
    "print('Total number of parameters:', sum(param.numel() for param in model.parameters()))"
   ]
  },
  {
   "cell_type": "markdown",
   "id": "91147a40-7287-482a-a5e6-1912a688f9c5",
   "metadata": {},
   "source": [
    "Из которых обучаемыми являются всего 512 * 9 + 9 = 4617"
   ]
  },
  {
   "cell_type": "code",
   "execution_count": 27,
   "id": "24636680-ca72-47dd-98aa-32e25e9661b7",
   "metadata": {},
   "outputs": [
    {
     "name": "stdout",
     "output_type": "stream",
     "text": [
      "Number of trainable parameters: 4617\n"
     ]
    }
   ],
   "source": [
    "print('Number of trainable parameters:', sum(param.numel() for param in model.parameters() if param.requires_grad))"
   ]
  },
  {
   "cell_type": "code",
   "execution_count": 28,
   "id": "2b156465-8b4c-45c4-8343-75e944d02936",
   "metadata": {},
   "outputs": [],
   "source": [
    "if torch.cuda.is_available():\n",
    "    model = model.cuda()"
   ]
  },
  {
   "cell_type": "markdown",
   "id": "92333c38-f758-4532-9e8a-833fe6ef475e",
   "metadata": {},
   "source": [
    "## Обучение"
   ]
  },
  {
   "cell_type": "markdown",
   "id": "5b0edfe2-70f5-45f0-8cf6-84776cf11a71",
   "metadata": {},
   "source": [
    "Для обучения необходимо создать оптимизатор, он будет обновлять веса, для которых requires_grad = True, в процессе обучения. Кроме SGD можно использовать другие доступные оптимизаторы (https://pytorch.org/docs/stable/optim.html), или реализовать свой."
   ]
  },
  {
   "cell_type": "code",
   "execution_count": 29,
   "id": "8071ad23-0a62-4864-8a6a-a8355149df70",
   "metadata": {},
   "outputs": [],
   "source": [
    "optimizer = torch.optim.SGD(model.parameters(), lr=0.001, momentum=0.9)"
   ]
  },
  {
   "cell_type": "markdown",
   "id": "d0cc9831-cb4f-4da0-9502-cfe83614c0c9",
   "metadata": {},
   "source": [
    "Параметры SGD необходимо аккуратно подбирать. Рекомендации приведены в работе: https://arxiv.org/abs/1803.09820. Либо сделать выбор в сторону адаптивных методов (Adam, ...)"
   ]
  },
  {
   "cell_type": "markdown",
   "id": "1a761424-439d-48b2-af74-629f50bcbc18",
   "metadata": {},
   "source": [
    "Оптимизатор, также как и модели, содержит state_dict, содержащий параметры оптимизатора. Его можно сохранить на диск и загрузить обратно в точности так же, как и веса модели."
   ]
  },
  {
   "cell_type": "markdown",
   "id": "3a37b854-4e84-428c-962b-bee343ccb871",
   "metadata": {},
   "source": [
    "Изменение параметров (learning_rate, momentum, и т.д.) напрямую влияет на процесс обучения"
   ]
  },
  {
   "cell_type": "code",
   "execution_count": 30,
   "id": "0e0baa2b-60cc-4788-8bdc-2577c036ad1b",
   "metadata": {},
   "outputs": [
    {
     "data": {
      "text/plain": [
       "(0.001, 0.9)"
      ]
     },
     "execution_count": 30,
     "metadata": {},
     "output_type": "execute_result"
    }
   ],
   "source": [
    "sd = optimizer.state_dict()\n",
    "sd['param_groups'][0]['lr'], sd['param_groups'][0]['momentum']"
   ]
  },
  {
   "cell_type": "markdown",
   "id": "f3e0af78-cf61-439a-8a32-275c224d0575",
   "metadata": {},
   "source": [
    "Можно изменять их напрямую, но более правильным является использование scheduler (см. https://pytorch.org/docs/stable/optim.html)\n",
    "Больше методов изменения скорости обучения доступно в https://pytorch.org/ignite/handlers.html#parameter-scheduler"
   ]
  },
  {
   "cell_type": "markdown",
   "id": "01191fff-79bd-4740-9925-81a0902d811e",
   "metadata": {},
   "source": [
    "В качестве показателя качества будем использовать точность классификации (accuracy). Результаты её вычисления будем отправлять на wandb сервер"
   ]
  },
  {
   "cell_type": "code",
   "execution_count": 32,
   "id": "a2f01db9-7d79-4f55-8df0-fa181e9f1bc5",
   "metadata": {},
   "outputs": [],
   "source": [
    "def accuracy_wb(dataloader, model, label):\n",
    "    model = model.eval()\n",
    "    tp = 0\n",
    "    with torch.no_grad():\n",
    "        for batch in dataloader:\n",
    "            image_batch, class_idx_batch = batch\n",
    "            if torch.cuda.is_available():\n",
    "                image_batch = image_batch.cuda()\n",
    "                class_idx_batch = class_idx_batch.cuda()\n",
    "            \n",
    "            logits = model(image_batch)\n",
    "            classes = torch.argmax(logits, dim=1)\n",
    "            tp += (class_idx_batch == classes).sum().item()\n",
    "\n",
    "        acc = tp / len(dataloader.dataset)\n",
    "        wandb.log({label: acc})\n",
    "        print(label, acc)"
   ]
  },
  {
   "cell_type": "markdown",
   "id": "0b81d5d5-d756-42bb-84b4-fec99f862673",
   "metadata": {},
   "source": [
    "Запустим процесс обучения"
   ]
  },
  {
   "cell_type": "code",
   "execution_count": 33,
   "id": "361d7f2c-f7b3-46cb-bd80-ee24cf9fb310",
   "metadata": {},
   "outputs": [],
   "source": [
    "def train(model, num_epochs, prefix):\n",
    "    for epoch in range(num_epochs):\n",
    "        print('\\nEpoch', epoch)\n",
    "        model = model.train()\n",
    "\n",
    "        for batch in train_dataloader:\n",
    "            # в pytorch градиент хранится в переменной grad и вычисляется при вызове backward\n",
    "            # при этом он не перезаписывается, а добавляется к старому значению,\n",
    "            # поэтому необходимо приравнять grad нулю, перед вычислением градиентов\n",
    "            optimizer.zero_grad()\n",
    "            \n",
    "            image_batch, class_idx_batch = batch\n",
    "            if torch.cuda.is_available():\n",
    "                image_batch = image_batch.cuda()\n",
    "                class_idx_batch = class_idx_batch.cuda()\n",
    "\n",
    "            logits = model(image_batch)\n",
    "\n",
    "            # вычисляем функцию потерь\n",
    "            loss = F.cross_entropy(logits, class_idx_batch)\n",
    "\n",
    "            # вычисляем градиенты\n",
    "            loss.backward()\n",
    "\n",
    "            wandb.log({'train_loss': loss})\n",
    "\n",
    "            # выполняем шаг оптимизации - обновляем веса\n",
    "            optimizer.step()\n",
    "\n",
    "        # считаем и логируем метрики качества\n",
    "        accuracy_wb(train_dataloader, model, 'train_accuracy')\n",
    "        accuracy_wb(test_dataloader, model, 'test_accuracy')\n",
    "\n",
    "        # сохраняем промежуточные результаты обучения - веса модели и состояние оптимизатора,\n",
    "        # чтобы при необходимости возобновить обучение с них\n",
    "        torch.save(model.state_dict(), prefix + 'model_{}.pth'.format(epoch))\n",
    "        torch.save(optimizer.state_dict(), prefix + 'optimizer_{}.pth'.format(epoch))"
   ]
  },
  {
   "cell_type": "markdown",
   "id": "fc3a4f36-1f39-4ab4-a54a-b4278802fc86",
   "metadata": {},
   "source": [
    "## Stage 1 - обучение линейного слоя"
   ]
  },
  {
   "cell_type": "code",
   "execution_count": 34,
   "id": "d7e40c5c-478b-4549-bc75-2f6507e040a1",
   "metadata": {},
   "outputs": [
    {
     "name": "stdout",
     "output_type": "stream",
     "text": [
      "\n",
      "Epoch 0\n",
      "train_accuracy 0.4188034188034188\n",
      "test_accuracy 0.3888888888888889\n",
      "\n",
      "Epoch 1\n",
      "train_accuracy 0.5961538461538461\n",
      "test_accuracy 0.5416666666666666\n",
      "\n",
      "Epoch 2\n",
      "train_accuracy 0.6837606837606838\n",
      "test_accuracy 0.6666666666666666\n",
      "\n",
      "Epoch 3\n",
      "train_accuracy 0.7243589743589743\n",
      "test_accuracy 0.6666666666666666\n",
      "\n",
      "Epoch 4\n",
      "train_accuracy 0.7649572649572649\n",
      "test_accuracy 0.75\n",
      "\n",
      "Epoch 5\n",
      "train_accuracy 0.7905982905982906\n",
      "test_accuracy 0.7361111111111112\n",
      "\n",
      "Epoch 6\n",
      "train_accuracy 0.8141025641025641\n",
      "test_accuracy 0.75\n",
      "\n",
      "Epoch 7\n",
      "train_accuracy 0.8333333333333334\n",
      "test_accuracy 0.75\n",
      "\n",
      "Epoch 8\n",
      "train_accuracy 0.8418803418803419\n",
      "test_accuracy 0.7777777777777778\n",
      "\n",
      "Epoch 9\n",
      "train_accuracy 0.8333333333333334\n",
      "test_accuracy 0.75\n",
      "\n",
      "Epoch 10\n",
      "train_accuracy 0.8226495726495726\n",
      "test_accuracy 0.75\n",
      "\n",
      "Epoch 11\n",
      "train_accuracy 0.8461538461538461\n",
      "test_accuracy 0.8333333333333334\n",
      "\n",
      "Epoch 12\n",
      "train_accuracy 0.844017094017094\n",
      "test_accuracy 0.7916666666666666\n",
      "\n",
      "Epoch 13\n",
      "train_accuracy 0.8632478632478633\n",
      "test_accuracy 0.7916666666666666\n",
      "\n",
      "Epoch 14\n",
      "train_accuracy 0.8846153846153846\n",
      "test_accuracy 0.7777777777777778\n",
      "\n",
      "Epoch 15\n",
      "train_accuracy 0.8611111111111112\n",
      "test_accuracy 0.7638888888888888\n",
      "\n",
      "Epoch 16\n",
      "train_accuracy 0.8867521367521367\n",
      "test_accuracy 0.7222222222222222\n",
      "\n",
      "Epoch 17\n",
      "train_accuracy 0.8611111111111112\n",
      "test_accuracy 0.75\n",
      "\n",
      "Epoch 18\n",
      "train_accuracy 0.9038461538461539\n",
      "test_accuracy 0.7916666666666666\n",
      "\n",
      "Epoch 19\n",
      "train_accuracy 0.8803418803418803\n",
      "test_accuracy 0.7361111111111112\n"
     ]
    }
   ],
   "source": [
    "train(model, 20, 'stage_1_')"
   ]
  },
  {
   "cell_type": "markdown",
   "id": "2768f076-bb76-4601-a98a-18a615674ef2",
   "metadata": {},
   "source": [
    "## Stage 2 - дообучение последнего сверточного слоя"
   ]
  },
  {
   "cell_type": "markdown",
   "id": "0fe3f055-a304-4639-a7cd-8a087d270df3",
   "metadata": {},
   "source": [
    "Загрузим веса, например, с 18-ой эпохи"
   ]
  },
  {
   "cell_type": "code",
   "execution_count": 35,
   "id": "4d1ba703-24c0-4b23-9db5-7ac911d07621",
   "metadata": {},
   "outputs": [],
   "source": [
    "model.load_state_dict(torch.load('stage_1_model_18.pth'))\n",
    "optimizer.load_state_dict(torch.load('stage_1_optimizer_18.pth'))"
   ]
  },
  {
   "cell_type": "markdown",
   "id": "8f24c790-7889-453c-b57b-c4a98f9184a0",
   "metadata": {},
   "source": [
    "Разморозим дополнительно последний сверточный слой"
   ]
  },
  {
   "cell_type": "code",
   "execution_count": 36,
   "id": "19f11215-f656-49df-a759-c80417fe1df8",
   "metadata": {},
   "outputs": [],
   "source": [
    "for param in model.layer4.parameters():\n",
    "    param.requires_grad = True"
   ]
  },
  {
   "cell_type": "markdown",
   "id": "966ea63a-375e-4bff-87ec-40dd2b64a0c1",
   "metadata": {},
   "source": [
    "Количество обучаемых параметров при этом составит"
   ]
  },
  {
   "cell_type": "code",
   "execution_count": 37,
   "id": "9da22dd4-5e45-4a93-ba00-8cbef95afb6d",
   "metadata": {},
   "outputs": [
    {
     "name": "stdout",
     "output_type": "stream",
     "text": [
      "Number of trainable parameters: 8398345\n"
     ]
    }
   ],
   "source": [
    "print('Number of trainable parameters:', sum(param.numel() for param in model.parameters() if param.requires_grad))"
   ]
  },
  {
   "cell_type": "markdown",
   "id": "17d0ca1a-75aa-4f33-bf59-5e46929961cd",
   "metadata": {},
   "source": [
    "Также уменьшим скорость обучения, например в 10 раз"
   ]
  },
  {
   "cell_type": "code",
   "execution_count": 38,
   "id": "034b9223-3b06-4774-89cc-5cf2c3908a8d",
   "metadata": {},
   "outputs": [],
   "source": [
    "sd = optimizer.state_dict()\n",
    "sd['param_groups'][0]['lr'] = 0.0001\n",
    "optimizer.load_state_dict(sd)"
   ]
  },
  {
   "cell_type": "code",
   "execution_count": 39,
   "id": "b5030aab-6c29-44c6-8145-72e613f5e169",
   "metadata": {},
   "outputs": [
    {
     "name": "stdout",
     "output_type": "stream",
     "text": [
      "\n",
      "Epoch 0\n",
      "train_accuracy 0.8974358974358975\n",
      "test_accuracy 0.7777777777777778\n",
      "\n",
      "Epoch 1\n",
      "train_accuracy 0.9038461538461539\n",
      "test_accuracy 0.8055555555555556\n",
      "\n",
      "Epoch 2\n",
      "train_accuracy 0.9102564102564102\n",
      "test_accuracy 0.8055555555555556\n",
      "\n",
      "Epoch 3\n",
      "train_accuracy 0.9294871794871795\n",
      "test_accuracy 0.7916666666666666\n",
      "\n",
      "Epoch 4\n",
      "train_accuracy 0.9358974358974359\n",
      "test_accuracy 0.7916666666666666\n",
      "\n",
      "Epoch 5\n",
      "train_accuracy 0.9508547008547008\n",
      "test_accuracy 0.75\n",
      "\n",
      "Epoch 6\n",
      "train_accuracy 0.9487179487179487\n",
      "test_accuracy 0.7638888888888888\n",
      "\n",
      "Epoch 7\n",
      "train_accuracy 0.9658119658119658\n",
      "test_accuracy 0.75\n",
      "\n",
      "Epoch 8\n",
      "train_accuracy 0.9465811965811965\n",
      "test_accuracy 0.8194444444444444\n",
      "\n",
      "Epoch 9\n",
      "train_accuracy 0.9572649572649573\n",
      "test_accuracy 0.7916666666666666\n",
      "\n",
      "Epoch 10\n",
      "train_accuracy 0.9615384615384616\n",
      "test_accuracy 0.8055555555555556\n",
      "\n",
      "Epoch 11\n",
      "train_accuracy 0.9700854700854701\n",
      "test_accuracy 0.7916666666666666\n",
      "\n",
      "Epoch 12\n",
      "train_accuracy 0.9636752136752137\n",
      "test_accuracy 0.7777777777777778\n",
      "\n",
      "Epoch 13\n",
      "train_accuracy 0.967948717948718\n",
      "test_accuracy 0.8472222222222222\n",
      "\n",
      "Epoch 14\n",
      "train_accuracy 0.9594017094017094\n",
      "test_accuracy 0.7916666666666666\n",
      "\n",
      "Epoch 15\n",
      "train_accuracy 0.9786324786324786\n",
      "test_accuracy 0.8055555555555556\n",
      "\n",
      "Epoch 16\n",
      "train_accuracy 0.9743589743589743\n",
      "test_accuracy 0.7777777777777778\n",
      "\n",
      "Epoch 17\n",
      "train_accuracy 0.9743589743589743\n",
      "test_accuracy 0.8055555555555556\n",
      "\n",
      "Epoch 18\n",
      "train_accuracy 0.9786324786324786\n",
      "test_accuracy 0.8611111111111112\n",
      "\n",
      "Epoch 19\n",
      "train_accuracy 0.9722222222222222\n",
      "test_accuracy 0.7638888888888888\n"
     ]
    }
   ],
   "source": [
    "train(model, 20, 'stage_2_')"
   ]
  },
  {
   "cell_type": "markdown",
   "id": "851769cf-637f-48a7-baa8-4abf69dcc5e9",
   "metadata": {},
   "source": [
    "## Бонус: аккумулирование градиентов"
   ]
  },
  {
   "cell_type": "code",
   "execution_count": 40,
   "id": "e9405bc4-9248-45a9-ab92-a66d5c05af9c",
   "metadata": {},
   "outputs": [
    {
     "data": {
      "text/html": [
       "Finishing last run (ID:1cxj9dz5) before initializing another..."
      ],
      "text/plain": [
       "<IPython.core.display.HTML object>"
      ]
     },
     "metadata": {},
     "output_type": "display_data"
    },
    {
     "data": {
      "text/html": [
       "<br/>Waiting for W&B process to finish, PID 111988<br/>Program ended successfully."
      ],
      "text/plain": [
       "<IPython.core.display.HTML object>"
      ]
     },
     "metadata": {},
     "output_type": "display_data"
    },
    {
     "data": {
      "application/vnd.jupyter.widget-view+json": {
       "model_id": "",
       "version_major": 2,
       "version_minor": 0
      },
      "text/plain": [
       "VBox(children=(Label(value=' 0.00MB of 0.00MB uploaded (0.00MB deduped)\\r'), FloatProgress(value=1.0, max=1.0)…"
      ]
     },
     "metadata": {},
     "output_type": "display_data"
    },
    {
     "data": {
      "text/html": [
       "Find user logs for this run at: <code>/home/sirius/catkin_ws/src/raai_summer_school_cv_2021/pytorch_training/notebooks/wandb/run-20210714_094627-1cxj9dz5/logs/debug.log</code>"
      ],
      "text/plain": [
       "<IPython.core.display.HTML object>"
      ]
     },
     "metadata": {},
     "output_type": "display_data"
    },
    {
     "data": {
      "text/html": [
       "Find internal logs for this run at: <code>/home/sirius/catkin_ws/src/raai_summer_school_cv_2021/pytorch_training/notebooks/wandb/run-20210714_094627-1cxj9dz5/logs/debug-internal.log</code>"
      ],
      "text/plain": [
       "<IPython.core.display.HTML object>"
      ]
     },
     "metadata": {},
     "output_type": "display_data"
    },
    {
     "data": {
      "text/html": [
       "<h3>Run summary:</h3><br/><style>\n",
       "    table.wandb td:nth-child(1) { padding: 0 10px; text-align: right }\n",
       "    </style><table class=\"wandb\">\n",
       "<tr><td>train_loss</td><td>0.3744</td></tr><tr><td>_runtime</td><td>546</td></tr><tr><td>_timestamp</td><td>1626245733</td></tr><tr><td>_step</td><td>2399</td></tr><tr><td>train_accuracy</td><td>0.97222</td></tr><tr><td>test_accuracy</td><td>0.76389</td></tr></table>"
      ],
      "text/plain": [
       "<IPython.core.display.HTML object>"
      ]
     },
     "metadata": {},
     "output_type": "display_data"
    },
    {
     "data": {
      "text/html": [
       "<h3>Run history:</h3><br/><style>\n",
       "    table.wandb td:nth-child(1) { padding: 0 10px; text-align: right }\n",
       "    </style><table class=\"wandb\">\n",
       "<tr><td>train_loss</td><td>██▆▄▄▄▄▅▃▂▂▂▂▂▂▅▂▂▁▃▁▂▃▃▂▃▃▃▁▁▁▁▂▂▁▁▁▁▃▂</td></tr><tr><td>_runtime</td><td>▁▁▁▁▁▂▂▂▂▂▂▂▂▂▂▃▃▃▃▃▆▆▆▆▆▆▆▇▇▇▇▇▇▇▇▇████</td></tr><tr><td>_timestamp</td><td>▁▁▁▁▁▂▂▂▂▂▂▂▂▂▂▃▃▃▃▃▆▆▆▆▆▆▆▇▇▇▇▇▇▇▇▇████</td></tr><tr><td>_step</td><td>▁▁▁▁▂▂▂▂▂▃▃▃▃▃▃▄▄▄▄▄▅▅▅▅▅▅▆▆▆▆▆▆▇▇▇▇▇███</td></tr><tr><td>train_accuracy</td><td>▁▃▄▅▅▆▆▆▆▆▆▆▆▇▇▇▇▇▇▇▇▇▇▇▇███████████████</td></tr><tr><td>test_accuracy</td><td>▁▃▅▅▆▆▆▆▇▆▆█▇▇▇▇▆▆▇▆▇▇▇▇▇▆▇▆▇▇▇▇▇█▇▇▇▇█▇</td></tr></table><br/>"
      ],
      "text/plain": [
       "<IPython.core.display.HTML object>"
      ]
     },
     "metadata": {},
     "output_type": "display_data"
    },
    {
     "data": {
      "text/html": [
       "Synced 6 W&B file(s), 0 media file(s), 0 artifact file(s) and 0 other file(s)"
      ],
      "text/plain": [
       "<IPython.core.display.HTML object>"
      ]
     },
     "metadata": {},
     "output_type": "display_data"
    },
    {
     "data": {
      "text/html": [
       "\n",
       "                    <br/>Synced <strong style=\"color:#cdcd00\">blooming-silence-16</strong>: <a href=\"https://wandb.ai/ivbelkin/raai-cv-2021/runs/1cxj9dz5\" target=\"_blank\">https://wandb.ai/ivbelkin/raai-cv-2021/runs/1cxj9dz5</a><br/>\n",
       "                "
      ],
      "text/plain": [
       "<IPython.core.display.HTML object>"
      ]
     },
     "metadata": {},
     "output_type": "display_data"
    },
    {
     "data": {
      "text/html": [
       "...Successfully finished last run (ID:1cxj9dz5). Initializing new run:<br/><br/>"
      ],
      "text/plain": [
       "<IPython.core.display.HTML object>"
      ]
     },
     "metadata": {},
     "output_type": "display_data"
    },
    {
     "data": {
      "text/html": [
       "\n",
       "                Tracking run with wandb version 0.10.33<br/>\n",
       "                Syncing run <strong style=\"color:#cdcd00\">fiery-dragon-17</strong> to <a href=\"https://wandb.ai\" target=\"_blank\">Weights & Biases</a> <a href=\"https://docs.wandb.com/integrations/jupyter.html\" target=\"_blank\">(Documentation)</a>.<br/>\n",
       "                Project page: <a href=\"https://wandb.ai/ivbelkin/raai-cv-2021\" target=\"_blank\">https://wandb.ai/ivbelkin/raai-cv-2021</a><br/>\n",
       "                Run page: <a href=\"https://wandb.ai/ivbelkin/raai-cv-2021/runs/2omhxptc\" target=\"_blank\">https://wandb.ai/ivbelkin/raai-cv-2021/runs/2omhxptc</a><br/>\n",
       "                Run data is saved locally in <code>/home/sirius/catkin_ws/src/raai_summer_school_cv_2021/pytorch_training/notebooks/wandb/run-20210714_095548-2omhxptc</code><br/><br/>\n",
       "            "
      ],
      "text/plain": [
       "<IPython.core.display.HTML object>"
      ]
     },
     "metadata": {},
     "output_type": "display_data"
    }
   ],
   "source": [
    "wandb.init(project=\"raai-cv-2021\")\n",
    "None"
   ]
  },
  {
   "cell_type": "markdown",
   "id": "aad867cd-2d26-48f6-be5f-14c77c270277",
   "metadata": {},
   "source": [
    "Как правило, обучение моделей производится на нескольких GPU с большим размером батча. В условиях ограниченных ресурсов приходится уменьшать размер батча. Это приводит к более зашумленной оценке градиента и, зачастую, более низким показателям качества итоговой модели. Стандартной рекомендацией является пропорциональное уменьшение скорости обучения. То есть, при уменьшении размера батча в 8 раз, стоит уменьшить learning rate в 8 раз. Это правило эмпирическое и не гарантирует результат.\n",
    "\n",
    "Другим выходом является аккумулирование градиентов. Оно заключается в вычислении среднего градиента по нескольким батчам, с последующим выполнением шага оптимизации"
   ]
  },
  {
   "cell_type": "code",
   "execution_count": 41,
   "id": "a87c3c2b-eb20-4348-b93a-fe0c74aa225b",
   "metadata": {},
   "outputs": [],
   "source": [
    "def train_ga(model, num_epochs, prefix, num_steps):\n",
    "    for epoch in range(num_epochs):\n",
    "        print('\\nEpoch', epoch)\n",
    "        model = model.train()\n",
    "\n",
    "        optimizer.zero_grad()\n",
    "\n",
    "        for i, batch in enumerate(train_dataloader):\n",
    "            image_batch, class_idx_batch = batch\n",
    "            if torch.cuda.is_available():\n",
    "                image_batch = image_batch.cuda()\n",
    "                class_idx_batch = class_idx_batch.cuda()\n",
    "\n",
    "            logits = model(image_batch)\n",
    "\n",
    "            # вычисляем функцию потерь\n",
    "            loss = F.cross_entropy(logits, class_idx_batch) / num_steps\n",
    "\n",
    "            # вычисляем градиенты\n",
    "            # в pytorch градиент хранится в переменной grad и вычисляется при вызове backward\n",
    "            # при этом он не перезаписывается, а добавляется к старому значению\n",
    "            loss.backward()\n",
    "\n",
    "            wandb.log({'train_loss': loss})\n",
    "\n",
    "            if (i + 1) % num_steps == 0:\n",
    "                # выполняем шаг оптимизации - обновляем веса\n",
    "                optimizer.step()\n",
    "                optimizer.zero_grad()\n",
    "\n",
    "        # считаем и логируем метрики качества\n",
    "        accuracy_wb(train_dataloader, model, 'train_accuracy')\n",
    "        accuracy_wb(test_dataloader, model, 'test_accuracy')\n",
    "\n",
    "        # сохраняем промежуточные результаты обучения - веса модели и состояние оптимизатора,\n",
    "        # чтобы при необходимости возобновить обучение с них\n",
    "        torch.save(model.state_dict(), prefix + 'model_{}.pth'.format(epoch))\n",
    "        torch.save(optimizer.state_dict(), prefix + 'optimizer_{}.pth'.format(epoch))"
   ]
  },
  {
   "cell_type": "code",
   "execution_count": 42,
   "id": "a0808c66-bbe7-4ead-a783-2ed9f2af998d",
   "metadata": {},
   "outputs": [],
   "source": [
    "model.fc = nn.Linear(512, 9)\n",
    "torch.nn.init.xavier_normal_(model.fc.weight)\n",
    "\n",
    "if torch.cuda.is_available():\n",
    "    model = model.cuda()\n",
    "\n",
    "for param in model.parameters():\n",
    "    param.requires_grad = False\n",
    "\n",
    "for param in model.fc.parameters():\n",
    "    param.requires_grad = True\n",
    "\n",
    "optimizer = torch.optim.SGD(model.parameters(), lr=0.001, momentum=0.9)"
   ]
  },
  {
   "cell_type": "code",
   "execution_count": 43,
   "id": "dd3bd8b6-66e8-4c0e-88bf-29dbe2992177",
   "metadata": {},
   "outputs": [
    {
     "name": "stdout",
     "output_type": "stream",
     "text": [
      "\n",
      "Epoch 0\n",
      "train_accuracy 0.07264957264957266\n",
      "test_accuracy 0.08333333333333333\n",
      "\n",
      "Epoch 1\n",
      "train_accuracy 0.09188034188034189\n",
      "test_accuracy 0.1388888888888889\n",
      "\n",
      "Epoch 2\n",
      "train_accuracy 0.10683760683760683\n",
      "test_accuracy 0.16666666666666666\n",
      "\n",
      "Epoch 3\n",
      "train_accuracy 0.17735042735042736\n",
      "test_accuracy 0.2361111111111111\n",
      "\n",
      "Epoch 4\n",
      "train_accuracy 0.23717948717948717\n",
      "test_accuracy 0.2361111111111111\n",
      "\n",
      "Epoch 5\n",
      "train_accuracy 0.2670940170940171\n",
      "test_accuracy 0.2638888888888889\n",
      "\n",
      "Epoch 6\n",
      "train_accuracy 0.358974358974359\n",
      "test_accuracy 0.3333333333333333\n",
      "\n",
      "Epoch 7\n",
      "train_accuracy 0.4017094017094017\n",
      "test_accuracy 0.4305555555555556\n",
      "\n",
      "Epoch 8\n",
      "train_accuracy 0.41239316239316237\n",
      "test_accuracy 0.5416666666666666\n",
      "\n",
      "Epoch 9\n",
      "train_accuracy 0.5235042735042735\n",
      "test_accuracy 0.5416666666666666\n",
      "\n",
      "Epoch 10\n",
      "train_accuracy 0.5363247863247863\n",
      "test_accuracy 0.5694444444444444\n",
      "\n",
      "Epoch 11\n",
      "train_accuracy 0.5982905982905983\n",
      "test_accuracy 0.5972222222222222\n",
      "\n",
      "Epoch 12\n",
      "train_accuracy 0.6324786324786325\n",
      "test_accuracy 0.625\n",
      "\n",
      "Epoch 13\n",
      "train_accuracy 0.6260683760683761\n",
      "test_accuracy 0.6666666666666666\n",
      "\n",
      "Epoch 14\n",
      "train_accuracy 0.6367521367521367\n",
      "test_accuracy 0.6805555555555556\n",
      "\n",
      "Epoch 15\n",
      "train_accuracy 0.6773504273504274\n",
      "test_accuracy 0.6805555555555556\n",
      "\n",
      "Epoch 16\n",
      "train_accuracy 0.6688034188034188\n",
      "test_accuracy 0.7361111111111112\n",
      "\n",
      "Epoch 17\n",
      "train_accuracy 0.6837606837606838\n",
      "test_accuracy 0.6944444444444444\n",
      "\n",
      "Epoch 18\n",
      "train_accuracy 0.7542735042735043\n",
      "test_accuracy 0.6944444444444444\n",
      "\n",
      "Epoch 19\n",
      "train_accuracy 0.7393162393162394\n",
      "test_accuracy 0.7083333333333334\n",
      "\n",
      "Epoch 20\n",
      "train_accuracy 0.7521367521367521\n",
      "test_accuracy 0.6944444444444444\n",
      "\n",
      "Epoch 21\n",
      "train_accuracy 0.7841880341880342\n",
      "test_accuracy 0.75\n",
      "\n",
      "Epoch 22\n",
      "train_accuracy 0.7756410256410257\n",
      "test_accuracy 0.7222222222222222\n",
      "\n",
      "Epoch 23\n",
      "train_accuracy 0.7884615384615384\n",
      "test_accuracy 0.7083333333333334\n",
      "\n",
      "Epoch 24\n",
      "train_accuracy 0.7991452991452992\n",
      "test_accuracy 0.7777777777777778\n",
      "\n",
      "Epoch 25\n",
      "train_accuracy 0.8012820512820513\n",
      "test_accuracy 0.7083333333333334\n",
      "\n",
      "Epoch 26\n",
      "train_accuracy 0.7927350427350427\n",
      "test_accuracy 0.7638888888888888\n",
      "\n",
      "Epoch 27\n",
      "train_accuracy 0.8098290598290598\n",
      "test_accuracy 0.7222222222222222\n",
      "\n",
      "Epoch 28\n",
      "train_accuracy 0.8183760683760684\n",
      "test_accuracy 0.7638888888888888\n",
      "\n",
      "Epoch 29\n",
      "train_accuracy 0.8290598290598291\n",
      "test_accuracy 0.7916666666666666\n",
      "\n",
      "Epoch 30\n",
      "train_accuracy 0.8311965811965812\n",
      "test_accuracy 0.7638888888888888\n",
      "\n",
      "Epoch 31\n",
      "train_accuracy 0.8269230769230769\n",
      "test_accuracy 0.75\n",
      "\n",
      "Epoch 32\n",
      "train_accuracy 0.8205128205128205\n",
      "test_accuracy 0.7638888888888888\n",
      "\n",
      "Epoch 33\n",
      "train_accuracy 0.8611111111111112\n",
      "test_accuracy 0.7361111111111112\n",
      "\n",
      "Epoch 34\n",
      "train_accuracy 0.844017094017094\n",
      "test_accuracy 0.7222222222222222\n",
      "\n",
      "Epoch 35\n",
      "train_accuracy 0.8525641025641025\n",
      "test_accuracy 0.7777777777777778\n",
      "\n",
      "Epoch 36\n",
      "train_accuracy 0.8547008547008547\n",
      "test_accuracy 0.7638888888888888\n",
      "\n",
      "Epoch 37\n",
      "train_accuracy 0.8611111111111112\n",
      "test_accuracy 0.8055555555555556\n",
      "\n",
      "Epoch 38\n",
      "train_accuracy 0.8632478632478633\n",
      "test_accuracy 0.75\n",
      "\n",
      "Epoch 39\n",
      "train_accuracy 0.8653846153846154\n",
      "test_accuracy 0.8055555555555556\n",
      "\n",
      "Epoch 40\n",
      "train_accuracy 0.8696581196581197\n",
      "test_accuracy 0.7638888888888888\n",
      "\n",
      "Epoch 41\n",
      "train_accuracy 0.8525641025641025\n",
      "test_accuracy 0.8333333333333334\n",
      "\n",
      "Epoch 42\n",
      "train_accuracy 0.8782051282051282\n",
      "test_accuracy 0.7916666666666666\n",
      "\n",
      "Epoch 43\n",
      "train_accuracy 0.8931623931623932\n",
      "test_accuracy 0.7777777777777778\n",
      "\n",
      "Epoch 44\n",
      "train_accuracy 0.8931623931623932\n",
      "test_accuracy 0.7916666666666666\n",
      "\n",
      "Epoch 45\n",
      "train_accuracy 0.8931623931623932\n",
      "test_accuracy 0.7777777777777778\n",
      "\n",
      "Epoch 46\n",
      "train_accuracy 0.8910256410256411\n",
      "test_accuracy 0.7777777777777778\n",
      "\n",
      "Epoch 47\n",
      "train_accuracy 0.9102564102564102\n",
      "test_accuracy 0.8055555555555556\n",
      "\n",
      "Epoch 48\n",
      "train_accuracy 0.9102564102564102\n",
      "test_accuracy 0.7638888888888888\n",
      "\n",
      "Epoch 49\n",
      "train_accuracy 0.8931623931623932\n",
      "test_accuracy 0.7638888888888888\n"
     ]
    }
   ],
   "source": [
    "train_ga(model, 50, 'ga_', 10)"
   ]
  },
  {
   "cell_type": "code",
   "execution_count": null,
   "id": "304438e8-1051-47f2-90df-94db4f3775ce",
   "metadata": {},
   "outputs": [],
   "source": []
  }
 ],
 "metadata": {
  "kernelspec": {
   "display_name": "Python 3",
   "language": "python",
   "name": "python3"
  },
  "language_info": {
   "codemirror_mode": {
    "name": "ipython",
    "version": 3
   },
   "file_extension": ".py",
   "mimetype": "text/x-python",
   "name": "python",
   "nbconvert_exporter": "python",
   "pygments_lexer": "ipython3",
   "version": "3.8.0"
  }
 },
 "nbformat": 4,
 "nbformat_minor": 5
}
