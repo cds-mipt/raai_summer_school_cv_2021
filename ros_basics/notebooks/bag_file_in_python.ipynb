{
 "cells": [
  {
   "cell_type": "code",
   "execution_count": 1,
   "id": "6731d0fe",
   "metadata": {},
   "outputs": [],
   "source": [
    "# основной ROS пакет\n",
    "import rospy\n",
    "\n",
    "# пакет для работы с BAG файлами\n",
    "import rosbag\n",
    "\n",
    "import os\n",
    "import cv2\n",
    "\n",
    "# пакет для преобразования изображений в ROS сообщения и обратно\n",
    "import cv_bridge\n",
    "\n",
    "# тип сообщения для изображений\n",
    "from sensor_msgs.msg import Image"
   ]
  },
  {
   "cell_type": "code",
   "execution_count": 2,
   "id": "0b30ab49",
   "metadata": {},
   "outputs": [],
   "source": [
    "BASE_PATH = '<path to extracted data>'"
   ]
  },
  {
   "cell_type": "markdown",
   "id": "282f19e4",
   "metadata": {},
   "source": [
    "## Запись изображений в BAG файл"
   ]
  },
  {
   "cell_type": "code",
   "execution_count": 3,
   "id": "c55118fd",
   "metadata": {},
   "outputs": [],
   "source": [
    "OUTPUT_BAG_PATH = 'output.bag'\n",
    "INPUT_IMAGE_DIR_PATH = os.path.join(BASE_PATH, '2011_09_26/2011_09_26_drive_0005_sync/image_00/data/')\n",
    "FREQ = 10\n",
    "OUTPUT_TOPIC_NAME = '/images'"
   ]
  },
  {
   "cell_type": "code",
   "execution_count": 4,
   "id": "34065218",
   "metadata": {},
   "outputs": [],
   "source": [
    "br = cv_bridge.CvBridge()"
   ]
  },
  {
   "cell_type": "code",
   "execution_count": 5,
   "id": "4244e138",
   "metadata": {},
   "outputs": [],
   "source": [
    "with rosbag.Bag(OUTPUT_BAG_PATH, 'w') as bag:\n",
    "    for i, image_name in enumerate(sorted(os.listdir(INPUT_IMAGE_DIR_PATH))):\n",
    "        image_path = os.path.join(INPUT_IMAGE_DIR_PATH, image_name)\n",
    "        image = cv2.imread(image_path)\n",
    "\n",
    "        timestamp = i / FREQ\n",
    "        t = rospy.Time.from_sec(timestamp)\n",
    "\n",
    "        image_msg = br.cv2_to_imgmsg(image)\n",
    "        image_msg.header.frame_id = 'left_camera'\n",
    "        image_msg.header.stamp = t\n",
    "\n",
    "        bag.write(OUTPUT_TOPIC_NAME, image_msg, t)"
   ]
  },
  {
   "cell_type": "markdown",
   "id": "9a0adc01",
   "metadata": {},
   "source": [
    "## Считывание изображений из BAG файла "
   ]
  },
  {
   "cell_type": "code",
   "execution_count": 6,
   "id": "652a78aa",
   "metadata": {},
   "outputs": [],
   "source": [
    "INPUT_BAG_PATH = os.path.join(BASE_PATH, 'kitti_2011_09_26_drive_0005_synced.bag')\n",
    "INPUT_TOPIC_NAME = '/kitti/camera_color_left/image_raw'\n",
    "OUTPUT_IMAGE_DIR_PATH = 'images'"
   ]
  },
  {
   "cell_type": "code",
   "execution_count": 7,
   "id": "50312647",
   "metadata": {},
   "outputs": [],
   "source": [
    "os.makedirs(OUTPUT_IMAGE_DIR_PATH, exist_ok=True)"
   ]
  },
  {
   "cell_type": "code",
   "execution_count": 8,
   "id": "d26f65d2",
   "metadata": {},
   "outputs": [],
   "source": [
    "br = cv_bridge.CvBridge()"
   ]
  },
  {
   "cell_type": "code",
   "execution_count": 9,
   "id": "83c1985c",
   "metadata": {},
   "outputs": [],
   "source": [
    "with rosbag.Bag(INPUT_BAG_PATH, 'r') as bag:\n",
    "    for i, (topic_name, image_msg, t) in enumerate(bag.read_messages(topics=[INPUT_TOPIC_NAME])):\n",
    "        image = br.imgmsg_to_cv2(image_msg)\n",
    "        \n",
    "        image_name = '{:0>8}.png'.format(i)\n",
    "        image_path = os.path.join(OUTPUT_IMAGE_DIR_PATH, image_name)\n",
    "        \n",
    "        cv2.imwrite(image_path, image)"
   ]
  }
 ],
 "metadata": {
  "kernelspec": {
   "display_name": "Python 3 (ipykernel)",
   "language": "python",
   "name": "python3"
  },
  "language_info": {
   "codemirror_mode": {
    "name": "ipython",
    "version": 3
   },
   "file_extension": ".py",
   "mimetype": "text/x-python",
   "name": "python",
   "nbconvert_exporter": "python",
   "pygments_lexer": "ipython3",
   "version": "3.8.10"
  }
 },
 "nbformat": 4,
 "nbformat_minor": 5
}
